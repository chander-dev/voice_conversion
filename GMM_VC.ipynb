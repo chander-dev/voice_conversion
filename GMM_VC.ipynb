{
 "cells": [
  {
   "cell_type": "code",
   "execution_count": 47,
   "metadata": {},
   "outputs": [],
   "source": [
    "from sklearn.mixture import GaussianMixture\n",
    "from sklearn.model_selection import train_test_split\n",
    "from pysptk.synthesis import MLSADF, Synthesizer\n",
    "import pyworld\n",
    "import pysptk\n",
    "import numpy as np\n",
    "from scipy.io import wavfile\n",
    "\n",
    "from os.path import join, expanduser, basename, splitext,exists\n",
    "import sys, os, time\n"
   ]
  },
  {
   "cell_type": "code",
   "execution_count": 38,
   "metadata": {},
   "outputs": [],
   "source": [
    "from sklearn.mixture.gaussian_mixture import _compute_precision_cholesky\n",
    "from nnmnkwii.datasets import FileSourceDataset\n",
    "from nnmnkwii.datasets.cmu_arctic import CMUArcticWavFileDataSource\n",
    "from nnmnkwii.preprocessing.alignment import DTWAligner\n",
    "from nnmnkwii.util import apply_each2d_trim\n",
    "from nnmnkwii.preprocessing import remove_zeros_frames, delta_features\n",
    "from nnmnkwii.metrics import melcd"
   ]
  },
  {
   "cell_type": "code",
   "execution_count": 39,
   "metadata": {},
   "outputs": [],
   "source": [
    "DATA_ROOT = '/home/chander/Documents/study_material/speech/project/cmu_arctic/'\n",
    "\n",
    "fs = 16000\n",
    "fftlen = pyworld.get_cheaptrick_fft_size(fs)\n",
    "alpha = pysptk.util.mcepalpha(fs)\n",
    "order = 59\n",
    "frame_period = 5\n",
    "max_files = 100\n",
    "n_components = 32 # number of components of gmm \n",
    "\n",
    "windows = [\n",
    "    (0, 0, np.array([1.0])),\n",
    "    (1, 1, np.array([-0.5, 0.0, 0.5])),\n",
    "    (1, 1, np.array([1.0, -2.0, 1.0])),\n",
    "]"
   ]
  },
  {
   "cell_type": "code",
   "execution_count": 40,
   "metadata": {},
   "outputs": [],
   "source": [
    "class CMUArcticSpectrumDataSource(CMUArcticWavFileDataSource):\n",
    "    def __init__(self, *args, **kwargs):\n",
    "        super(CMUArcticSpectrumDataSource, self).__init__(*args, **kwargs)\n",
    "        self.test_paths = None\n",
    "\n",
    "    def collect_files(self):\n",
    "        paths = super(\n",
    "            CMUArcticSpectrumDataSource, self).collect_files()\n",
    "        paths_train, paths_test = train_test_split(\n",
    "            paths, test_size=0.2, random_state=1234)\n",
    "\n",
    "        # keep paths for later testing\n",
    "        self.test_paths = paths_test\n",
    "\n",
    "        return paths_train\n",
    "\n",
    "    def collect_features(self, path):\n",
    "        fs, x = wavfile.read(path)\n",
    "        x = x.astype(np.float64)\n",
    "        f0, timeaxis = pyworld.dio(x, fs, frame_period=frame_period)\n",
    "        spectrogram = pyworld.cheaptrick(x, f0, timeaxis, fs)\n",
    "        mc = pysptk.sp2mc(spectrogram, order=order, alpha=alpha)\n",
    "        return mc"
   ]
  },
  {
   "cell_type": "code",
   "execution_count": 41,
   "metadata": {},
   "outputs": [],
   "source": [
    "import numpy as np\n",
    "from sklearn.mixture import GaussianMixture\n",
    "from sklearn.mixture.gaussian_mixture import _compute_precision_cholesky\n",
    "import bandmat as bm\n",
    "import bandmat.linalg as bla"
   ]
  },
  {
   "cell_type": "code",
   "execution_count": 42,
   "metadata": {},
   "outputs": [],
   "source": [
    "def build_win_mats(windows, frames):\n",
    "    \"\"\"Builds a window matrix of a given size for each window in a collection.\n",
    "    \"\"\"\n",
    "    winMats = []\n",
    "    for l, u, winCoeff in windows:\n",
    "        assert l >= 0 and u >= 0\n",
    "        assert len(winCoeff) == l + u + 1\n",
    "        winCoeffs = np.tile(np.reshape(winCoeff, (l + u + 1, 1)), frames)\n",
    "        winMat = bm.band_c_bm(u, l, winCoeffs).T\n",
    "        winMats.append(winMat)\n",
    "  \n",
    "    return winMats"
   ]
  },
  {
   "cell_type": "code",
   "execution_count": 43,
   "metadata": {},
   "outputs": [],
   "source": [
    "def build_poe(bFrames, tauFrames, winMats, sdw = None):\n",
    "    if sdw is None:\n",
    "        sdw = max([ winMat.l + winMat.u for winMat in winMats ])\n",
    "    numWindows = len(winMats)\n",
    "    frames = len(bFrames)\n",
    "    assert np.shape(bFrames) == (frames, numWindows)\n",
    "    assert np.shape(tauFrames) == (frames, numWindows)\n",
    "    assert all([ winMat.l + winMat.u <= sdw for winMat in winMats ])\n",
    "  \n",
    "    b = np.zeros((frames,))\n",
    "    prec = bm.zeros(sdw, sdw, frames)\n",
    "  \n",
    "    for winIndex, winMat in enumerate(winMats):\n",
    "        bm.dot_mv_plus_equals(winMat.T, bFrames[:, winIndex], target = b)\n",
    "        bm.dot_mm_plus_equals(winMat.T, winMat, target_bm = prec,\n",
    "                              diag = tauFrames[:, winIndex])\n",
    "  \n",
    "    return b, prec"
   ]
  },
  {
   "cell_type": "code",
   "execution_count": 44,
   "metadata": {},
   "outputs": [],
   "source": [
    "def mlpg(mean_frames, variance_frames, windows):\n",
    "    \"\"\"Maximum Parameter Likelihood Generation (MLPG)\n",
    "    \"\"\"\n",
    "    dtype = mean_frames.dtype\n",
    "    T, D = mean_frames.shape\n",
    "    # expand variances over frames\n",
    "    if variance_frames.ndim == 1 and variance_frames.shape[0] == D:\n",
    "        variance_frames = np.tile(variance_frames, (T, 1))\n",
    "    assert mean_frames.shape == variance_frames.shape\n",
    "    static_dim = D // len(windows)\n",
    "\n",
    "    num_windows = len(windows)\n",
    "    win_mats = build_win_mats(windows, T)\n",
    "\n",
    "    # workspaces; those will be updated in the following generation loop\n",
    "    means = np.zeros((T, num_windows))\n",
    "    precisions = np.zeros((T, num_windows))\n",
    "    # Perform dimension-wise generation\n",
    "    y = np.zeros((T, static_dim), dtype=dtype)\n",
    "    for d in range(static_dim):\n",
    "\n",
    "        for win_idx in range(num_windows):\n",
    "            means[:, win_idx] = mean_frames[:, win_idx * static_dim + d]\n",
    "            precisions[:, win_idx] = 1 / \\\n",
    "                variance_frames[:, win_idx * static_dim + d]\n",
    "\n",
    "        bs = precisions * means\n",
    "        b, P = build_poe(bs, precisions, win_mats)\n",
    "        y[:, d] = bla.solveh(P, b)\n",
    "\n",
    "    return y"
   ]
  },
  {
   "cell_type": "code",
   "execution_count": 45,
   "metadata": {},
   "outputs": [],
   "source": [
    "class MLPGBase(object):\n",
    "    def __init__(self, gmm, swap=False, diff=False):\n",
    "        assert gmm.covariance_type == \"full\"\n",
    "        # D: static + delta dim\n",
    "        D = gmm.means_.shape[1] // 2\n",
    "        self.num_mixtures = gmm.means_.shape[0]\n",
    "        self.weights = gmm.weights_\n",
    "\n",
    "        # Split source and target parameters from joint GMM\n",
    "        self.src_means = gmm.means_[:, :D]\n",
    "        self.tgt_means = gmm.means_[:, D:]\n",
    "        self.covarXX = gmm.covariances_[:, :D, :D]\n",
    "        self.covarXY = gmm.covariances_[:, :D, D:]\n",
    "        self.covarYX = gmm.covariances_[:, D:, :D]\n",
    "        self.covarYY = gmm.covariances_[:, D:, D:]\n",
    "\n",
    "        if diff:\n",
    "            self.tgt_means = self.tgt_means - self.src_means\n",
    "            self.covarYY = self.covarXX + self.covarYY - self.covarXY - self.covarYX\n",
    "            self.covarXY = self.covarXY - self.covarXX\n",
    "            self.covarYX = self.covarXY.transpose(0, 2, 1)\n",
    "\n",
    "        # swap src and target parameters\n",
    "        if swap:\n",
    "            self.tgt_means, self.src_means = self.src_means, self.tgt_means\n",
    "            self.covarYY, self.covarXX = self.covarXX, self.covarYY\n",
    "            self.covarYX, self.covarXY = self.covarXY, self.covarYX\n",
    "\n",
    "        # p(x), which is used to compute posterior prob. for a given source\n",
    "        # spectral feature in mapping stage.\n",
    "        self.px = GaussianMixture(\n",
    "            n_components=self.num_mixtures, covariance_type=\"full\")\n",
    "        self.px.means_ = self.src_means\n",
    "        self.px.covariances_ = self.covarXX\n",
    "        self.px.weights_ = self.weights\n",
    "        self.px.precisions_cholesky_ = _compute_precision_cholesky(\n",
    "            self.px.covariances_, \"full\")\n",
    "\n",
    "    def transform(self, src):\n",
    "        if src.ndim == 2:\n",
    "            tgt = np.zeros_like(src)\n",
    "            for idx, x in enumerate(src):\n",
    "                y = self._transform_frame(x)\n",
    "                tgt[idx][:len(y)] = y\n",
    "            return tgt\n",
    "        else:\n",
    "            return self._transform_frame(src)\n",
    "\n",
    "    def _transform_frame(self, src):\n",
    "        \"\"\"Mapping source spectral feature x to target spectral feature y\n",
    "        so that minimize the mean least squared error.\n",
    "        \"\"\"\n",
    "        D = len(src)\n",
    "\n",
    "        # Eq.(11)\n",
    "        E = np.zeros((self.num_mixtures, D))\n",
    "        for m in range(self.num_mixtures):\n",
    "            xx = np.linalg.solve(self.covarXX[m], src - self.src_means[m])\n",
    "            E[m] = self.tgt_means[m] + self.covarYX[m].dot(xx)\n",
    "\n",
    "        # Eq.(9) p(m|x)\n",
    "        posterior = self.px.predict_proba(np.atleast_2d(src))\n",
    "\n",
    "        # Eq.(13) conditinal mean E[p(y|x)]\n",
    "        return posterior.dot(E).flatten()"
   ]
  },
  {
   "cell_type": "code",
   "execution_count": 46,
   "metadata": {},
   "outputs": [],
   "source": [
    "class MLPG(MLPGBase):\n",
    "    \"\"\"Maximum likelihood Parameter Generation (MLPG) for GMM-basd voice\n",
    "    conversion\n",
    "    \"\"\"\n",
    "\n",
    "    def __init__(self, gmm, windows=None, swap=False, diff=False):\n",
    "        super(MLPG, self).__init__(gmm, swap, diff)\n",
    "        if windows is None:\n",
    "            windows = [\n",
    "                (0, 0, np.array([1.0])),\n",
    "                (1, 1, np.array([-0.5, 0.0, 0.5])),\n",
    "            ]\n",
    "        self.windows = windows\n",
    "        self.static_dim = gmm.means_.shape[-1] // 2 // len(windows)\n",
    "\n",
    "    def transform(self, src):\n",
    "        \"\"\"Mapping source feature x to target feature y so that maximize the\n",
    "        likelihood of y given x.\n",
    "        \"\"\"\n",
    "        T, feature_dim = src.shape[0], src.shape[1]\n",
    "\n",
    "        if feature_dim == self.static_dim:\n",
    "            return super(MLPG, self).transform(src)\n",
    "\n",
    "        # A suboptimum mixture sequence  (eq.37)\n",
    "        optimum_mix = self.px.predict(src)\n",
    "\n",
    "        # Compute E eq.(40)\n",
    "        E = np.empty((T, feature_dim))\n",
    "        for t in range(T):\n",
    "            m = optimum_mix[t]  # estimated mixture index at time t\n",
    "            xx = np.linalg.solve(self.covarXX[m], src[t] - self.src_means[m])\n",
    "            # Eq. (22)\n",
    "            E[t] = self.tgt_means[m] + np.dot(self.covarYX[m], xx)\n",
    "\n",
    "        # Compute D eq.(23)\n",
    "        # Approximated variances with diagonals so that we can do MLPG\n",
    "        # efficiently in dimention-wise manner\n",
    "        D = np.empty((T, feature_dim))\n",
    "        for t in range(T):\n",
    "            m = optimum_mix[t]\n",
    "            # Eq. (23), with approximating covariances as diagonals\n",
    "            D[t] = np.diag(self.covarYY[m]) - np.diag(self.covarYX[m]) / \\\n",
    "                np.diag(self.covarXX[m]) * np.diag(self.covarXY[m])\n",
    "\n",
    "        # Once we have mean and variance over frames, then we can do MLPG\n",
    "        return mlpg(E, D, self.windows)"
   ]
  },
  {
   "cell_type": "code",
   "execution_count": 26,
   "metadata": {},
   "outputs": [],
   "source": [
    "source = CMUArcticSpectrumDataSource(data_root=DATA_ROOT,\n",
    "                                         speakers=[\"ksp\"], max_files=max_files)\n",
    "target = CMUArcticSpectrumDataSource(data_root=DATA_ROOT,\n",
    "                                         speakers=[\"slt\"], max_files=max_files)\n",
    "\n",
    "# Build dataset as 3D tensor (NxTxD)\n",
    "X = FileSourceDataset(source).asarray(padded_length=1200)\n",
    "Y = FileSourceDataset(target).asarray(padded_length=1200)"
   ]
  },
  {
   "cell_type": "code",
   "execution_count": 27,
   "metadata": {},
   "outputs": [],
   "source": [
    "# Alignment\n",
    "X, Y = DTWAligner(verbose=0, dist=melcd).transform((X, Y))"
   ]
  },
  {
   "cell_type": "code",
   "execution_count": 28,
   "metadata": {},
   "outputs": [],
   "source": [
    "# Drop 1st dimention\n",
    "X, Y = X[:, :, 1:], Y[:, :, 1:]\n",
    "\n",
    "static_dim = X.shape[-1]"
   ]
  },
  {
   "cell_type": "code",
   "execution_count": 29,
   "metadata": {},
   "outputs": [],
   "source": [
    "#calculate delta and delta-delta features using wondows \n",
    "X = apply_each2d_trim(delta_features, X, windows)\n",
    "Y = apply_each2d_trim(delta_features, Y, windows)"
   ]
  },
  {
   "cell_type": "code",
   "execution_count": 30,
   "metadata": {},
   "outputs": [
    {
     "name": "stdout",
     "output_type": "stream",
     "text": [
      "(54088, 354)\n"
     ]
    }
   ],
   "source": [
    "# Joint features\n",
    "XY = np.concatenate((X, Y), axis=-1).reshape(-1, X.shape[-1] * 2)\n",
    "XY = remove_zeros_frames(XY)\n",
    "print(XY.shape)"
   ]
  },
  {
   "cell_type": "code",
   "execution_count": 48,
   "metadata": {},
   "outputs": [],
   "source": [
    "gmm = GaussianMixture(\n",
    "    n_components=n_components, covariance_type=\"full\", max_iter=1, verbose=1)\n",
    "# uncomment this line for training\n",
    "# gmm.fit(XY) "
   ]
  },
  {
   "cell_type": "code",
   "execution_count": 49,
   "metadata": {},
   "outputs": [
    {
     "ename": "AttributeError",
     "evalue": "'GaussianMixture' object has no attribute 'means_'",
     "output_type": "error",
     "traceback": [
      "\u001b[0;31m---------------------------------------------------------------------------\u001b[0m",
      "\u001b[0;31mAttributeError\u001b[0m                            Traceback (most recent call last)",
      "\u001b[0;32m<ipython-input-49-5edece477dd9>\u001b[0m in \u001b[0;36m<module>\u001b[0;34m()\u001b[0m\n\u001b[0;32m----> 1\u001b[0;31m \u001b[0mparamgen\u001b[0m \u001b[0;34m=\u001b[0m \u001b[0mMLPG\u001b[0m\u001b[0;34m(\u001b[0m\u001b[0mgmm\u001b[0m\u001b[0;34m,\u001b[0m \u001b[0mwindows\u001b[0m\u001b[0;34m=\u001b[0m\u001b[0mwindows\u001b[0m\u001b[0;34m,\u001b[0m \u001b[0mdiff\u001b[0m\u001b[0;34m=\u001b[0m\u001b[0;32mTrue\u001b[0m\u001b[0;34m)\u001b[0m\u001b[0;34m\u001b[0m\u001b[0m\n\u001b[0m",
      "\u001b[0;32m<ipython-input-46-d066621f88cd>\u001b[0m in \u001b[0;36m__init__\u001b[0;34m(self, gmm, windows, swap, diff)\u001b[0m\n\u001b[1;32m      5\u001b[0m \u001b[0;34m\u001b[0m\u001b[0m\n\u001b[1;32m      6\u001b[0m     \u001b[0;32mdef\u001b[0m \u001b[0m__init__\u001b[0m\u001b[0;34m(\u001b[0m\u001b[0mself\u001b[0m\u001b[0;34m,\u001b[0m \u001b[0mgmm\u001b[0m\u001b[0;34m,\u001b[0m \u001b[0mwindows\u001b[0m\u001b[0;34m=\u001b[0m\u001b[0;32mNone\u001b[0m\u001b[0;34m,\u001b[0m \u001b[0mswap\u001b[0m\u001b[0;34m=\u001b[0m\u001b[0;32mFalse\u001b[0m\u001b[0;34m,\u001b[0m \u001b[0mdiff\u001b[0m\u001b[0;34m=\u001b[0m\u001b[0;32mFalse\u001b[0m\u001b[0;34m)\u001b[0m\u001b[0;34m:\u001b[0m\u001b[0;34m\u001b[0m\u001b[0m\n\u001b[0;32m----> 7\u001b[0;31m         \u001b[0msuper\u001b[0m\u001b[0;34m(\u001b[0m\u001b[0mMLPG\u001b[0m\u001b[0;34m,\u001b[0m \u001b[0mself\u001b[0m\u001b[0;34m)\u001b[0m\u001b[0;34m.\u001b[0m\u001b[0m__init__\u001b[0m\u001b[0;34m(\u001b[0m\u001b[0mgmm\u001b[0m\u001b[0;34m,\u001b[0m \u001b[0mswap\u001b[0m\u001b[0;34m,\u001b[0m \u001b[0mdiff\u001b[0m\u001b[0;34m)\u001b[0m\u001b[0;34m\u001b[0m\u001b[0m\n\u001b[0m\u001b[1;32m      8\u001b[0m         \u001b[0;32mif\u001b[0m \u001b[0mwindows\u001b[0m \u001b[0;32mis\u001b[0m \u001b[0;32mNone\u001b[0m\u001b[0;34m:\u001b[0m\u001b[0;34m\u001b[0m\u001b[0m\n\u001b[1;32m      9\u001b[0m             windows = [\n",
      "\u001b[0;32m<ipython-input-45-4452bdf30e11>\u001b[0m in \u001b[0;36m__init__\u001b[0;34m(self, gmm, swap, diff)\u001b[0m\n\u001b[1;32m      3\u001b[0m         \u001b[0;32massert\u001b[0m \u001b[0mgmm\u001b[0m\u001b[0;34m.\u001b[0m\u001b[0mcovariance_type\u001b[0m \u001b[0;34m==\u001b[0m \u001b[0;34m\"full\"\u001b[0m\u001b[0;34m\u001b[0m\u001b[0m\n\u001b[1;32m      4\u001b[0m         \u001b[0;31m# D: static + delta dim\u001b[0m\u001b[0;34m\u001b[0m\u001b[0;34m\u001b[0m\u001b[0m\n\u001b[0;32m----> 5\u001b[0;31m         \u001b[0mD\u001b[0m \u001b[0;34m=\u001b[0m \u001b[0mgmm\u001b[0m\u001b[0;34m.\u001b[0m\u001b[0mmeans_\u001b[0m\u001b[0;34m.\u001b[0m\u001b[0mshape\u001b[0m\u001b[0;34m[\u001b[0m\u001b[0;36m1\u001b[0m\u001b[0;34m]\u001b[0m \u001b[0;34m//\u001b[0m \u001b[0;36m2\u001b[0m\u001b[0;34m\u001b[0m\u001b[0m\n\u001b[0m\u001b[1;32m      6\u001b[0m         \u001b[0mself\u001b[0m\u001b[0;34m.\u001b[0m\u001b[0mnum_mixtures\u001b[0m \u001b[0;34m=\u001b[0m \u001b[0mgmm\u001b[0m\u001b[0;34m.\u001b[0m\u001b[0mmeans_\u001b[0m\u001b[0;34m.\u001b[0m\u001b[0mshape\u001b[0m\u001b[0;34m[\u001b[0m\u001b[0;36m0\u001b[0m\u001b[0;34m]\u001b[0m\u001b[0;34m\u001b[0m\u001b[0m\n\u001b[1;32m      7\u001b[0m         \u001b[0mself\u001b[0m\u001b[0;34m.\u001b[0m\u001b[0mweights\u001b[0m \u001b[0;34m=\u001b[0m \u001b[0mgmm\u001b[0m\u001b[0;34m.\u001b[0m\u001b[0mweights_\u001b[0m\u001b[0;34m\u001b[0m\u001b[0m\n",
      "\u001b[0;31mAttributeError\u001b[0m: 'GaussianMixture' object has no attribute 'means_'"
     ]
    }
   ],
   "source": [
    "paramgen = MLPG(gmm, windows=windows, diff=True)"
   ]
  },
  {
   "cell_type": "code",
   "execution_count": 36,
   "metadata": {},
   "outputs": [
    {
     "name": "stdout",
     "output_type": "stream",
     "text": [
      "0, Elapsed time in conversion: 0.3272831439971924s\n",
      "1, Elapsed time in conversion: 0.5722088813781738s\n",
      "2, Elapsed time in conversion: 0.25998806953430176s\n",
      "3, Elapsed time in conversion: 0.3428916931152344s\n",
      "4, Elapsed time in conversion: 0.3174934387207031s\n",
      "5, Elapsed time in conversion: 0.4310183525085449s\n",
      "6, Elapsed time in conversion: 0.3450136184692383s\n",
      "7, Elapsed time in conversion: 0.22142910957336426s\n",
      "8, Elapsed time in conversion: 0.38539862632751465s\n",
      "9, Elapsed time in conversion: 0.48334550857543945s\n",
      "10, Elapsed time in conversion: 0.45844554901123047s\n",
      "11, Elapsed time in conversion: 0.2770552635192871s\n",
      "12, Elapsed time in conversion: 0.5171337127685547s\n",
      "13, Elapsed time in conversion: 2.6456871032714844s\n",
      "14, Elapsed time in conversion: 1.1529393196105957s\n",
      "15, Elapsed time in conversion: 0.5536694526672363s\n",
      "16, Elapsed time in conversion: 0.6416587829589844s\n",
      "17, Elapsed time in conversion: 1.6458961963653564s\n",
      "18, Elapsed time in conversion: 0.27762365341186523s\n",
      "19, Elapsed time in conversion: 0.9583725929260254s\n"
     ]
    }
   ],
   "source": [
    "for idx, path in enumerate(source.test_paths):\n",
    "    fs, x = wavfile.read(path)\n",
    "    x = x.astype(np.float64)\n",
    "    f0, timeaxis = pyworld.dio(x, fs, frame_period=frame_period)\n",
    "    spectrogram = pyworld.cheaptrick(x, f0, timeaxis, fs)\n",
    "    # aperiodicity = pyworld.d4c(x, f0, timeaxis, fs)\n",
    "\n",
    "    mc = pysptk.sp2mc(spectrogram, order=order, alpha=alpha)\n",
    "    c0, mc = mc[:, 0], mc[:, 1:]\n",
    "    \n",
    "    mc = delta_features(mc, windows)\n",
    "    since = time.time()\n",
    "    mc = paramgen.transform(mc)\n",
    "    print(\"{}, Elapsed time in conversion: {}s\".format(idx, time.time() - since))\n",
    "    assert mc.shape[-1] == static_dim\n",
    "    mc = np.hstack((c0[:, None], mc))\n",
    "\n",
    "    mc[:, 0] = 0\n",
    "    engine = Synthesizer(MLSADF(order=59, alpha=alpha), hopsize=80)\n",
    "    b = pysptk.mc2b(mc.astype(np.float64), alpha=alpha)\n",
    "    waveform = engine.synthesis(x, b)\n",
    "    if not exists('resultsVC'):\n",
    "        os.makedirs('resultsVC')\n",
    "    wavfile.write(\"resultsVC/{}_{}.wav\".format(splitext(basename(path))[0],'mlpg'),\n",
    "                  fs, waveform.astype(np.int16))"
   ]
  },
  {
   "cell_type": "code",
   "execution_count": null,
   "metadata": {},
   "outputs": [],
   "source": []
  }
 ],
 "metadata": {
  "kernelspec": {
   "display_name": "Python 3",
   "language": "python",
   "name": "python3"
  },
  "language_info": {
   "codemirror_mode": {
    "name": "ipython",
    "version": 3
   },
   "file_extension": ".py",
   "mimetype": "text/x-python",
   "name": "python",
   "nbconvert_exporter": "python",
   "pygments_lexer": "ipython3",
   "version": "3.6.2"
  }
 },
 "nbformat": 4,
 "nbformat_minor": 2
}
